{
 "cells": [
  {
   "cell_type": "code",
   "execution_count": 2,
   "id": "6059dc7b",
   "metadata": {},
   "outputs": [],
   "source": [
    "import os\n",
    "import pandas as pd\n",
    "import shutil"
   ]
  },
  {
   "cell_type": "code",
   "execution_count": 19,
   "id": "2a8638e1",
   "metadata": {},
   "outputs": [
    {
     "name": "stdout",
     "output_type": "stream",
     "text": [
      "Đã thêm cột 'is_pinned' (mặc định False) vào hnhu2804.csv\n",
      "Đã thêm cột 'is_pinned' (mặc định False) vào dramakinglndx.csv\n",
      "Đã thêm cột 'is_pinned' (mặc định False) vào conkien01.csv\n",
      "Đã thêm cột 'is_pinned' (mặc định False) vào im.lunadao_official.csv\n",
      "Đã thêm cột 'is_pinned' (mặc định False) vào thanhhuongord.csv\n",
      "Đã thêm cột 'is_pinned' (mặc định False) vào biveve131.csv\n",
      "Đã thêm cột 'is_pinned' (mặc định False) vào annie.rose697.csv\n",
      "Đã thêm cột 'is_pinned' (mặc định False) vào itshale98.csv\n",
      "Đã thêm cột 'is_pinned' (mặc định False) vào thanhyvo.csv\n",
      "Đã thêm cột 'is_pinned' (mặc định False) vào vithanhle308.csv\n",
      "Đã thêm cột 'is_pinned' (mặc định False) vào hwitch99.csv\n",
      "Đã thêm cột 'is_pinned' (mặc định False) vào khietnhinhi.csv\n",
      "Đã thêm cột 'is_pinned' (mặc định False) vào hoangminhngoc21.csv\n",
      "Đã thêm cột 'is_pinned' (mặc định False) vào msquynhthie.csv\n",
      "Đã thêm cột 'is_pinned' (mặc định False) vào goc.cua.ru.csv\n",
      "Đã thêm cột 'is_pinned' (mặc định False) vào beautytips4.0.csv\n",
      "Đã thêm cột 'is_pinned' (mặc định False) vào chouchinchan.csv\n",
      "Đã thêm cột 'is_pinned' (mặc định False) vào ph.hoanganhh.csv\n",
      "Đã thêm cột 'is_pinned' (mặc định False) vào lethikhanhhuyen2004.csv\n",
      "Đã thêm cột 'is_pinned' (mặc định False) vào hienlamdep90.csv\n",
      "Đã thêm cột 'is_pinned' (mặc định False) vào bychloenguyen.csv\n",
      "Đã thêm cột 'is_pinned' (mặc định False) vào nhatkycuameichan.csv\n",
      "Đã thêm cột 'is_pinned' (mặc định False) vào rosermae.csv\n",
      "Đã thêm cột 'is_pinned' (mặc định False) vào drkhonghanhnguyen.csv\n",
      "Đã thêm cột 'is_pinned' (mặc định False) vào xukamechamda.csv\n",
      "Đã thêm cột 'is_pinned' (mặc định False) vào thaovann_0602.csv\n",
      "Đã thêm cột 'is_pinned' (mặc định False) vào emma1010_official.csv\n",
      "Đã thêm cột 'is_pinned' (mặc định False) vào bylinhtruong.csv\n",
      "Đã thêm cột 'is_pinned' (mặc định False) vào blingbabi_.csv\n",
      "Đã thêm cột 'is_pinned' (mặc định False) vào thaonhileofficial.csv\n",
      "Đã thêm cột 'is_pinned' (mặc định False) vào lihtrag.0903.csv\n",
      "Đã thêm cột 'is_pinned' (mặc định False) vào rose_do18.csv\n",
      "Đã thêm cột 'is_pinned' (mặc định False) vào mai.trinh.h.csv\n",
      "Đã thêm cột 'is_pinned' (mặc định False) vào trishphann.csv\n",
      "Đã thêm cột 'is_pinned' (mặc định False) vào huynhanhthu_cosmetic.csv\n",
      "Đã thêm cột 'is_pinned' (mặc định False) vào thudannguyen99.csv\n",
      "Đã thêm cột 'is_pinned' (mặc định False) vào nguyenhuemakeup1996.csv\n",
      "Đã thêm cột 'is_pinned' (mặc định False) vào im.lukedo.csv\n",
      "Đã thêm cột 'is_pinned' (mặc định False) vào vznganmin.csv\n",
      "Đã thêm cột 'is_pinned' (mặc định False) vào emmi.hoang.csv\n",
      "Đã thêm cột 'is_pinned' (mặc định False) vào rinavaseoul2003.csv\n",
      "Đã thêm cột 'is_pinned' (mặc định False) vào kimchungphan20.csv\n",
      "Đã thêm cột 'is_pinned' (mặc định False) vào halinhofficial.csv\n",
      "Đã thêm cột 'is_pinned' (mặc định False) vào yendan7.csv\n",
      "Đã thêm cột 'is_pinned' (mặc định False) vào minzy.in.kr.csv\n",
      "Đã thêm cột 'is_pinned' (mặc định False) vào hannaholala.csv\n",
      "Đã thêm cột 'is_pinned' (mặc định False) vào thangmakeup.csv\n",
      "Đã thêm cột 'is_pinned' (mặc định False) vào chaubui.csv\n",
      "Đã thêm cột 'is_pinned' (mặc định False) vào tnhadinh.csv\n",
      "Đã thêm cột 'is_pinned' (mặc định False) vào tikkaisweird.csv\n",
      "Đã thêm cột 'is_pinned' (mặc định False) vào lebong95.csv\n",
      "Đã thêm cột 'is_pinned' (mặc định False) vào jjhahehi.csv\n",
      "Đã thêm cột 'is_pinned' (mặc định False) vào luongthuchien6868.csv\n",
      "Đã thêm cột 'is_pinned' (mặc định False) vào tomskincare.csv\n",
      "Đã thêm cột 'is_pinned' (mặc định False) vào hanhxuka2804.csv\n",
      "Đã thêm cột 'is_pinned' (mặc định False) vào linhtruong.ld.csv\n",
      "Đã thêm cột 'is_pinned' (mặc định False) vào han.hang18.csv\n",
      "Đã thêm cột 'is_pinned' (mặc định False) vào truc.dao.csv\n",
      "Đã thêm cột 'is_pinned' (mặc định False) vào gigigithebabe.csv\n",
      "Đã thêm cột 'is_pinned' (mặc định False) vào ngoctrinh89.csv\n",
      "Đã thêm cột 'is_pinned' (mặc định False) vào michanne1011.csv\n",
      "Đã thêm cột 'is_pinned' (mặc định False) vào trixiebaeee.csv\n",
      "Đã thêm cột 'is_pinned' (mặc định False) vào trinhpham2222.csv\n",
      "Đã thêm cột 'is_pinned' (mặc định False) vào lehatruc.daily.csv\n",
      "Đã thêm cột 'is_pinned' (mặc định False) vào maivantrang_.csv\n",
      "Đã thêm cột 'is_pinned' (mặc định False) vào _inlil.csv\n",
      "Đã thêm cột 'is_pinned' (mặc định False) vào phuonglytran.csv\n",
      "Đã thêm cột 'is_pinned' (mặc định False) vào eb06thg9.csv\n",
      "Đã thêm cột 'is_pinned' (mặc định False) vào tran_lam18.csv\n",
      "Đã thêm cột 'is_pinned' (mặc định False) vào phoganh8461.csv\n",
      "Đã thêm cột 'is_pinned' (mặc định False) vào nutano4495.csv\n",
      "Đã thêm cột 'is_pinned' (mặc định False) vào dieplamanh.csv\n",
      "Đã thêm cột 'is_pinned' (mặc định False) vào myhuyen_channel.csv\n",
      "Đã thêm cột 'is_pinned' (mặc định False) vào lepthelittlekid.csv\n",
      "Đã thêm cột 'is_pinned' (mặc định False) vào haleypham2002.csv\n",
      "Đã thêm cột 'is_pinned' (mặc định False) vào actress.lanhuong.csv\n",
      "Đã thêm cột 'is_pinned' (mặc định False) vào dangvbeauty179.csv\n",
      "Đã thêm cột 'is_pinned' (mặc định False) vào hufureview.csv\n",
      "Đã thêm cột 'is_pinned' (mặc định False) vào imneyy.csv\n",
      "Đã thêm cột 'is_pinned' (mặc định False) vào alissaho23.csv\n",
      "Đã thêm cột 'is_pinned' (mặc định False) vào nhacuaanvymeo.csv\n",
      "Đã thêm cột 'is_pinned' (mặc định False) vào dieplinhcami.csv\n"
     ]
    }
   ],
   "source": [
    "# Đường dẫn đến thư mục chứa các file CSV\n",
    "folder_path = \"kol_data_csv_final/kol_data_csv_final\"\n",
    "\n",
    "for filename in os.listdir(folder_path):\n",
    "    if filename.endswith(\".csv\"):\n",
    "        file_path = os.path.join(folder_path, filename)\n",
    "\n",
    "        # Đọc file CSV\n",
    "        df = pd.read_csv(file_path)\n",
    "\n",
    "        # Thêm cột mới 'is_pinned', mặc định False\n",
    "        df[\"is_pinned\"] = False\n",
    "\n",
    "        # Ghi đè lại file\n",
    "        df.to_csv(file_path, index=False)\n",
    "\n",
    "        print(f\"Đã thêm cột 'is_pinned' (mặc định False) vào {filename}\")"
   ]
  },
  {
   "cell_type": "code",
   "execution_count": 20,
   "id": "66334689",
   "metadata": {},
   "outputs": [
    {
     "name": "stdout",
     "output_type": "stream",
     "text": [
      "Tổng số file trong thư mục: 82\n"
     ]
    }
   ],
   "source": [
    "folder_path = \"kol_data_csv_final/kol_data_csv_final\"\n",
    "\n",
    "# Đếm tất cả file trong thư mục\n",
    "total_files = len([f for f in os.listdir(folder_path) if os.path.isfile(os.path.join(folder_path, f))])\n",
    "\n",
    "print(\"Tổng số file trong thư mục:\", total_files)"
   ]
  },
  {
   "cell_type": "code",
   "execution_count": 21,
   "id": "d8acf470",
   "metadata": {},
   "outputs": [
    {
     "name": "stdout",
     "output_type": "stream",
     "text": [
      "Đã chia 82 file thành 41 + 41\n"
     ]
    }
   ],
   "source": [
    "src_folder = \"kol_data_csv_final/kol_data_csv_final\"\n",
    "\n",
    "# Hai thư mục đích\n",
    "dst_folder_1 = \"kol_data_csv_final_1\"\n",
    "dst_folder_2 = \"kol_data_csv_final_2\"\n",
    "\n",
    "# Tạo thư mục đích nếu chưa tồn tại\n",
    "os.makedirs(dst_folder_1, exist_ok=True)\n",
    "os.makedirs(dst_folder_2, exist_ok=True)\n",
    "\n",
    "# Lấy danh sách tất cả file CSV trong src_folder\n",
    "files = [f for f in os.listdir(src_folder) if f.endswith(\".csv\")]\n",
    "files.sort()  # để ổn định thứ tự\n",
    "\n",
    "# Chia đôi\n",
    "midpoint = len(files) // 2\n",
    "files_1 = files[:midpoint]\n",
    "files_2 = files[midpoint:]\n",
    "\n",
    "# Copy/move file sang thư mục mới\n",
    "for f in files_1:\n",
    "    shutil.move(os.path.join(src_folder, f), os.path.join(dst_folder_1, f))\n",
    "\n",
    "for f in files_2:\n",
    "    shutil.move(os.path.join(src_folder, f), os.path.join(dst_folder_2, f))\n",
    "\n",
    "print(f\"Đã chia {len(files)} file thành {len(files_1)} + {len(files_2)}\")"
   ]
  },
  {
   "cell_type": "code",
   "execution_count": 9,
   "id": "135fdd84",
   "metadata": {},
   "outputs": [],
   "source": [
    "id_post_url_pinned = [7475700970731719954, 7356589198058523912, 7393206560664653074, 7224428176418655493, 7237047863635692805, \n",
    "7517524539685752071, 7413265399891987730, 7395156514589265170, 7488339298580712709, 7487591468182392070, 7408570475829398792, 7412237911749430535,\n",
    "7412482009500601618, 7397342549414808850, 7432162293112147220, 7456290102214577415, 7494274369091341576, 7211833056771018011, 7344577786016746753, \n",
    "7424553644692983058, 7397408657316629778, 7225992714079325445, 7459070949313252628, 7518634761326185746, 7419550422295268616, 7424425518478494984, \n",
    "7353200667269270802, 7315281920114412806, 7304906857695563015, 7182045923625667866, 7135276375140879642, 7495366538120285495, 7493086130796006711, \n",
    "7492703350652292357, 6924702794242903297, 6953961024240291073, 6996495992677862682, 7487578482520722743, 7515427291002883335, 7284981036520312071, \n",
    "7533958626063568146, 7449750024260455688, 7451844541700721927, 7443795775437425928, 7464590393082989831, 7249679140100558082, 7464254691833056530, \n",
    "7349195075949219074, 7379923287247162625, 7300410445372869906, 7405431103454055681, 7308205987591179538, 7425598863379107080, 7498578531656551687, \n",
    "7485290492515634440, 7218948123815693595, 7248040393995046146, 7428825568801525009, 7511685958929091858, 7532401642340191496, 7333644521646869768, \n",
    "7468719735144713480, 7222988000257445147, 7493445011262950663, 7350258528688327944, 7384012290070301960, 7481289903821688084, 7457437075957140743, \n",
    "7067521436335836442, 7502324429033131271, 7502011881880669458, 7434498519966305554, 7486451847511952658, 7510579676205600008, 7475325695967677704, \n",
    "7455286891454237959, 7532503562945891592, 7527708564551421191, 7488309133804899589, 7239971623003049222, 7326485892254715154, 7312703590353653000]"
   ]
  },
  {
   "cell_type": "code",
   "execution_count": 10,
   "id": "c9668967",
   "metadata": {},
   "outputs": [
    {
     "name": "stdout",
     "output_type": "stream",
     "text": [
      "set()\n"
     ]
    }
   ],
   "source": [
    "duplicates = [x for x in id_post_url_pinned if id_post_url_pinned.count(x) > 1]\n",
    "print(set(duplicates))"
   ]
  },
  {
   "cell_type": "code",
   "execution_count": 22,
   "id": "911c00cd",
   "metadata": {},
   "outputs": [
    {
     "name": "stdout",
     "output_type": "stream",
     "text": [
      "Đã cập nhật hnhu2804.csv\n",
      "Đã cập nhật dramakinglndx.csv\n",
      "Đã cập nhật conkien01.csv\n",
      "Đã cập nhật im.lunadao_official.csv\n",
      "Đã cập nhật biveve131.csv\n",
      "Đã cập nhật annie.rose697.csv\n",
      "Đã cập nhật itshale98.csv\n",
      "Đã cập nhật hwitch99.csv\n",
      "Đã cập nhật khietnhinhi.csv\n",
      "Đã cập nhật hoangminhngoc21.csv\n",
      "Đã cập nhật goc.cua.ru.csv\n",
      "Đã cập nhật beautytips4.0.csv\n",
      "Đã cập nhật chouchinchan.csv\n",
      "Đã cập nhật hienlamdep90.csv\n",
      "Đã cập nhật bychloenguyen.csv\n",
      "Đã cập nhật drkhonghanhnguyen.csv\n",
      "Đã cập nhật emma1010_official.csv\n",
      "Đã cập nhật bylinhtruong.csv\n",
      "Đã cập nhật blingbabi_.csv\n",
      "Đã cập nhật huynhanhthu_cosmetic.csv\n",
      "Đã cập nhật im.lukedo.csv\n",
      "Đã cập nhật emmi.hoang.csv\n",
      "Đã cập nhật kimchungphan20.csv\n",
      "Đã cập nhật halinhofficial.csv\n",
      "Đã cập nhật hannaholala.csv\n",
      "Đã cập nhật chaubui.csv\n",
      "Đã cập nhật lebong95.csv\n",
      "Đã cập nhật jjhahehi.csv\n",
      "Đã cập nhật hanhxuka2804.csv\n",
      "Đã cập nhật han.hang18.csv\n",
      "Đã cập nhật gigigithebabe.csv\n",
      "Đã cập nhật _inlil.csv\n",
      "Đã cập nhật eb06thg9.csv\n",
      "Đã cập nhật dieplamanh.csv\n",
      "Đã cập nhật haleypham2002.csv\n",
      "Đã cập nhật actress.lanhuong.csv\n",
      "Đã cập nhật dangvbeauty179.csv\n",
      "Đã cập nhật hufureview.csv\n",
      "Đã cập nhật imneyy.csv\n",
      "Đã cập nhật alissaho23.csv\n",
      "Đã cập nhật dieplinhcami.csv\n"
     ]
    }
   ],
   "source": [
    "# Thư mục chứa file CSV\n",
    "folder_path = \"kol_data_csv_final_1\"\n",
    "\n",
    "id_set = set(map(str, id_post_url_pinned))\n",
    "\n",
    "for filename in os.listdir(folder_path):\n",
    "    if filename.endswith(\".csv\"):\n",
    "        file_path = os.path.join(folder_path, filename)\n",
    "        df = pd.read_csv(file_path)\n",
    "\n",
    "        # Nếu chưa có cột is_pinned thì thêm mặc định False\n",
    "        if \"is_pinned\" not in df.columns:\n",
    "            df[\"is_pinned\"] = False\n",
    "\n",
    "        # Lấy ID cuối trong URL\n",
    "        def extract_id(url):\n",
    "            try:\n",
    "                return url.strip().split(\"/\")[-1]\n",
    "            except:\n",
    "                return None\n",
    "\n",
    "        df[\"video_id\"] = df[\"webVideoUrl\"].astype(str).apply(extract_id)\n",
    "\n",
    "        # Gán is_pinned\n",
    "        df[\"is_pinned\"] = df[\"video_id\"].isin(id_set)\n",
    "\n",
    "        # Xóa cột phụ nếu không cần\n",
    "        df.drop(columns=[\"video_id\"], inplace=True)\n",
    "\n",
    "        # Ghi đè file\n",
    "        df.to_csv(file_path, index=False)\n",
    "        print(f\"Đã cập nhật {filename}\")\n"
   ]
  },
  {
   "cell_type": "code",
   "execution_count": 14,
   "id": "b86790ae",
   "metadata": {},
   "outputs": [
    {
     "data": {
      "text/plain": [
       "text                           object\n",
       "createTime                     object\n",
       "createTimeISO                  object\n",
       "isAd                             bool\n",
       "profileUrl                     object\n",
       "musicName                      object\n",
       "musicId                         int64\n",
       "webVideoUrl                    object\n",
       "duration                        int64\n",
       "diggCount                       int64\n",
       "shareCount                      int64\n",
       "playCount                       int64\n",
       "collectCount                    int64\n",
       "commentCount                    int64\n",
       "hashtags                       object\n",
       "isSlideshow                      bool\n",
       "isSponsored                      bool\n",
       "kol_username                   object\n",
       "ttSeller                         bool\n",
       "commerceUser                     bool\n",
       "is_trending                      bool\n",
       "emoji_count                     int64\n",
       "hashtag_count                   int64\n",
       "word_count_no_emoji_hashtag     int64\n",
       "early_morning                   int64\n",
       "morning                         int64\n",
       "afternoon                       int64\n",
       "evening                         int64\n",
       "late_night                      int64\n",
       "is_weekend                      int64\n",
       "is_pinned                        bool\n",
       "dtype: object"
      ]
     },
     "execution_count": 14,
     "metadata": {},
     "output_type": "execute_result"
    }
   ],
   "source": [
    "check = pd.read_csv('kol_data_csv_final_1/emma1010_official.csv')\n",
    "check.dtypes"
   ]
  },
  {
   "cell_type": "code",
   "execution_count": 24,
   "id": "4ed3b140",
   "metadata": {},
   "outputs": [
    {
     "data": {
      "text/plain": [
       "text                            object\n",
       "createTime                      object\n",
       "createTimeISO                   object\n",
       "isAd                              bool\n",
       "profileUrl                      object\n",
       "musicName                       object\n",
       "musicId                        float64\n",
       "webVideoUrl                     object\n",
       "duration                         int64\n",
       "diggCount                        int64\n",
       "shareCount                       int64\n",
       "playCount                        int64\n",
       "collectCount                     int64\n",
       "commentCount                     int64\n",
       "hashtags                        object\n",
       "isSlideshow                       bool\n",
       "isSponsored                       bool\n",
       "kol_username                    object\n",
       "ttSeller                          bool\n",
       "commerceUser                      bool\n",
       "is_trending                       bool\n",
       "emoji_count                      int64\n",
       "hashtag_count                    int64\n",
       "word_count_no_emoji_hashtag      int64\n",
       "early_morning                    int64\n",
       "morning                          int64\n",
       "afternoon                        int64\n",
       "evening                          int64\n",
       "late_night                       int64\n",
       "is_weekend                       int64\n",
       "is_pinned                         bool\n",
       "dtype: object"
      ]
     },
     "execution_count": 24,
     "metadata": {},
     "output_type": "execute_result"
    }
   ],
   "source": [
    "check = pd.read_csv('kol_data_csv_final_2/tomskincare.csv')\n",
    "check.dtypes"
   ]
  },
  {
   "cell_type": "code",
   "execution_count": null,
   "id": "06f1fe5d",
   "metadata": {},
   "outputs": [],
   "source": [
    "src_dirs = [\"kol_data_csv_final_1\", \"kol_data_csv_final_2\"]\n",
    "dst_dir = \"kol_data_csv_final\"\n",
    "\n",
    "os.makedirs(dst_dir, exist_ok=True)\n",
    "\n",
    "for src in src_dirs:\n",
    "    for file_name in os.listdir(src):\n",
    "        src_file = os.path.join(src, file_name)\n",
    "        dst_file = os.path.join(dst_dir, file_name)\n",
    "\n",
    "        if os.path.isfile(src_file):\n",
    "            if os.path.exists(dst_file):\n",
    "                print(f\"⚠️ File {file_name} đã tồn tại, bỏ qua\")\n",
    "            else:\n",
    "                shutil.copy2(src_file, dst_file)\n",
    "                print(f\"✅ Đã sao chép {file_name} từ {src} sang {dst_dir}\")"
   ]
  },
  {
   "cell_type": "code",
   "execution_count": null,
   "id": "76d7fcfa",
   "metadata": {},
   "outputs": [
    {
     "name": "stdout",
     "output_type": "stream",
     "text": [
      "Tổng số sample trong thư mục: 22751\n",
      "Tổng số kol trong thư mục: 82\n"
     ]
    }
   ],
   "source": [
    "folder = \"kol_data_csv_final\"  # thư mục chứa các file csv\n",
    "total_samples = 0\n",
    "total_kols = 0\n",
    "for file in os.listdir(folder):\n",
    "    if file.endswith(\".csv\"):\n",
    "        total_kols+=1\n",
    "        file_path = os.path.join(folder, file)\n",
    "        try:\n",
    "            df = pd.read_csv(file_path)\n",
    "            total_samples += len(df)\n",
    "        except Exception as e:\n",
    "            print(f\"Lỗi khi đọc {file}: {e}\")\n",
    "\n",
    "print(\"Tổng số sample trong thư mục:\", total_samples)\n",
    "print(\"Tổng số kol trong thư mục:\", total_kols)"
   ]
  },
  {
   "cell_type": "code",
   "execution_count": 5,
   "id": "b05e296e",
   "metadata": {},
   "outputs": [
    {
     "name": "stdout",
     "output_type": "stream",
     "text": [
      "Tổng số sample trong thư mục: 671\n",
      "Tổng số kol trong thư mục: 74\n"
     ]
    }
   ],
   "source": [
    "folder = \"kol_data_csv_3_month\"  # thư mục chứa các file csv\n",
    "total_samples = 0\n",
    "total_kols = 0\n",
    "for file in os.listdir(folder):\n",
    "    if file.endswith(\".csv\"):\n",
    "        total_kols+=1\n",
    "        file_path = os.path.join(folder, file)\n",
    "        try:\n",
    "            df = pd.read_csv(file_path)\n",
    "            total_samples += len(df)\n",
    "        except Exception as e:\n",
    "            print(f\"Lỗi khi đọc {file}: {e}\")\n",
    "\n",
    "print(\"Tổng số sample trong thư mục:\", total_samples)\n",
    "print(\"Tổng số kol trong thư mục:\", total_kols)"
   ]
  }
 ],
 "metadata": {
  "kernelspec": {
   "display_name": "venv",
   "language": "python",
   "name": "python3"
  },
  "language_info": {
   "codemirror_mode": {
    "name": "ipython",
    "version": 3
   },
   "file_extension": ".py",
   "mimetype": "text/x-python",
   "name": "python",
   "nbconvert_exporter": "python",
   "pygments_lexer": "ipython3",
   "version": "3.13.2"
  }
 },
 "nbformat": 4,
 "nbformat_minor": 5
}
